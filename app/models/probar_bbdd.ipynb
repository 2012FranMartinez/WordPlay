{
 "cells": [
  {
   "cell_type": "code",
   "execution_count": 1,
   "metadata": {},
   "outputs": [],
   "source": [
    "import os\n",
    "from dotenv import load_dotenv\n",
    "import pymysql"
   ]
  },
  {
   "cell_type": "code",
   "execution_count": 2,
   "metadata": {},
   "outputs": [],
   "source": [
    "\n",
    "load_dotenv(dotenv_path=\"../.env\")\n",
    "# Leer credenciales desde .env\n",
    "DB_USER = os.getenv(\"MYSQL_USER\")\n",
    "DB_PASSWORD = os.getenv(\"MYSQL_PASSWORD\")\n",
    "DB_HOST = os.getenv(\"MYSQL_HOST\")\n",
    "DB_NAME = os.getenv(\"MYSQL_DATABASE\")\n",
    "DB_PORT = os.getenv(\"MYSQL_PORT\")"
   ]
  },
  {
   "cell_type": "code",
   "execution_count": 14,
   "metadata": {},
   "outputs": [],
   "source": [
    "db = pymysql.connect(host = os.getenv('MYSQL_HOST'),\n",
    "                     user = os.getenv('MYSQL_USER'),\n",
    "                     password = os.getenv('MYSQL_PASSWORD'),\n",
    "                     cursorclass = pymysql.cursors.DictCursor\n",
    ")\n",
    "\n",
    "cursor = db.cursor()"
   ]
  },
  {
   "cell_type": "code",
   "execution_count": 15,
   "metadata": {},
   "outputs": [
    {
     "name": "stdout",
     "output_type": "stream",
     "text": [
      "MySQL version: {'VERSION()': '8.0.39'}\n"
     ]
    }
   ],
   "source": [
    "cursor.execute('SELECT VERSION()')\n",
    "version = cursor.fetchone()\n",
    "print(f'MySQL version: {version}')"
   ]
  },
  {
   "cell_type": "code",
   "execution_count": null,
   "metadata": {},
   "outputs": [
    {
     "data": {
      "text/plain": [
       "0"
      ]
     },
     "execution_count": 6,
     "metadata": {},
     "output_type": "execute_result"
    }
   ],
   "source": [
    "# create_db = '''CREATE DATABASE country_database'''\n",
    "# cursor.execute(create_db)\n",
    "\n",
    "# drop_db = '''DROP DATABASE country_database'''\n",
    "# cursor.execute(drop_db)"
   ]
  },
  {
   "cell_type": "code",
   "execution_count": 16,
   "metadata": {},
   "outputs": [
    {
     "data": {
      "text/plain": [
       "[{'Database': 'WordPlay'},\n",
       " {'Database': 'information_schema'},\n",
       " {'Database': 'mysql'},\n",
       " {'Database': 'performance_schema'},\n",
       " {'Database': 'sys'}]"
      ]
     },
     "execution_count": 16,
     "metadata": {},
     "output_type": "execute_result"
    }
   ],
   "source": [
    "cursor.execute('SHOW DATABASES')\n",
    "cursor.fetchall()"
   ]
  },
  {
   "cell_type": "code",
   "execution_count": 17,
   "metadata": {},
   "outputs": [
    {
     "data": {
      "text/plain": [
       "0"
      ]
     },
     "execution_count": 17,
     "metadata": {},
     "output_type": "execute_result"
    }
   ],
   "source": [
    "cursor.connection.commit()\n",
    "use_db = ''' USE WordPlay'''\n",
    "cursor.execute(use_db)"
   ]
  },
  {
   "cell_type": "code",
   "execution_count": 18,
   "metadata": {},
   "outputs": [
    {
     "data": {
      "text/plain": [
       "[{'Tables_in_WordPlay': 'word_learned_table'},\n",
       " {'Tables_in_WordPlay': 'word_new_table'}]"
      ]
     },
     "execution_count": 18,
     "metadata": {},
     "output_type": "execute_result"
    }
   ],
   "source": [
    "cursor.execute(\"SHOW TABLES\")\n",
    "\n",
    "# Obtener todos los resultados (nombres de las tablas)\n",
    "tables = cursor.fetchall()\n",
    "tables\n"
   ]
  },
  {
   "cell_type": "code",
   "execution_count": 79,
   "metadata": {},
   "outputs": [
    {
     "data": {
      "text/plain": [
       "1"
      ]
     },
     "execution_count": 79,
     "metadata": {},
     "output_type": "execute_result"
    }
   ],
   "source": [
    "insert_data = '''\n",
    "INSERT INTO word_new_table (word)\n",
    "VALUES ('XXX')\n",
    "'''\n",
    "cursor.execute(insert_data)"
   ]
  },
  {
   "cell_type": "code",
   "execution_count": 19,
   "metadata": {},
   "outputs": [
    {
     "data": {
      "text/plain": [
       "[{'id': 1, 'word': 'hello2'}]"
      ]
     },
     "execution_count": 19,
     "metadata": {},
     "output_type": "execute_result"
    }
   ],
   "source": [
    "sql = '''SELECT * FROM word_new_table'''\n",
    "cursor.execute(sql)\n",
    "mi_lista = cursor.fetchall()\n",
    "mi_lista"
   ]
  },
  {
   "cell_type": "code",
   "execution_count": 20,
   "metadata": {},
   "outputs": [
    {
     "data": {
      "text/plain": [
       "[{'id': 10, 'word': 'hello jaja'},\n",
       " {'id': 12, 'word': 'hello2 jaja'},\n",
       " {'id': 8, 'word': 'hellojaja'},\n",
       " {'id': 17, 'word': 'XXX'}]"
      ]
     },
     "execution_count": 20,
     "metadata": {},
     "output_type": "execute_result"
    }
   ],
   "source": [
    "sql = '''SELECT * FROM word_learned_table'''\n",
    "cursor.execute(sql)\n",
    "mi_lista = cursor.fetchall()\n",
    "mi_lista"
   ]
  },
  {
   "cell_type": "code",
   "execution_count": null,
   "metadata": {},
   "outputs": [],
   "source": []
  }
 ],
 "metadata": {
  "kernelspec": {
   "display_name": "Python 3",
   "language": "python",
   "name": "python3"
  },
  "language_info": {
   "codemirror_mode": {
    "name": "ipython",
    "version": 3
   },
   "file_extension": ".py",
   "mimetype": "text/x-python",
   "name": "python",
   "nbconvert_exporter": "python",
   "pygments_lexer": "ipython3",
   "version": "3.12.7"
  }
 },
 "nbformat": 4,
 "nbformat_minor": 2
}
